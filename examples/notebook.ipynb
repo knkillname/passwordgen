{
 "cells": [
  {
   "cell_type": "code",
   "execution_count": 5,
   "metadata": {},
   "outputs": [
    {
     "data": {
      "text/plain": [
       "{'dictionaries': [{'file_name': 'en_US.dic',\n",
       "   'language_name': 'English (US)',\n",
       "   'language_code': 'en_US',\n",
       "   'download_url': 'https://raw.githubusercontent.com/LibreOffice/dictionaries/master/en/en_US.dic',\n",
       "   'encoding': 'utf-8'},\n",
       "  {'file_name': 'en_GB.dic',\n",
       "   'language_name': 'English (UK)',\n",
       "   'language_code': 'en_GB',\n",
       "   'download_url': 'https://raw.githubusercontent.com/LibreOffice/dictionaries/master/en/en_GB.dic',\n",
       "   'encoding': 'utf-8'},\n",
       "  {'file_name': 'es_ES.dic',\n",
       "   'language_name': 'Spanish (Spain)',\n",
       "   'language_code': 'es_ES',\n",
       "   'download_url': 'https://raw.githubusercontent.com/LibreOffice/dictionaries/master/es/es_ES.dic',\n",
       "   'encoding': 'utf-8'},\n",
       "  {'file_name': 'es_MX.dic',\n",
       "   'language_name': 'Spanish (Mexico)',\n",
       "   'language_code': 'es_MX',\n",
       "   'download_url': 'https://raw.githubusercontent.com/LibreOffice/dictionaries/master/es/es_MX.dic',\n",
       "   'encoding': 'utf-8'},\n",
       "  {'file_name': 'fr.dic',\n",
       "   'language_name': 'French',\n",
       "   'language_code': 'fr_FR',\n",
       "   'download_url': 'https://raw.githubusercontent.com/LibreOffice/dictionaries/master/fr_FR/fr.dic',\n",
       "   'encoding': 'utf-8'},\n",
       "  {'file_name': 'de_DE_frami.dic',\n",
       "   'language_name': 'German',\n",
       "   'language_code': 'de_DE',\n",
       "   'download_url': 'https://raw.githubusercontent.com/LibreOffice/dictionaries/master/de/de_DE_frami.dic',\n",
       "   'encoding': 'latin1'},\n",
       "  {'file_name': 'it_IT.dic',\n",
       "   'language_name': 'Italian',\n",
       "   'language_code': 'it_IT',\n",
       "   'download_url': 'https://raw.githubusercontent.com/LibreOffice/dictionaries/master/it_IT/it_IT.dic',\n",
       "   'encoding': 'utf-8'}]}"
      ]
     },
     "execution_count": 5,
     "metadata": {},
     "output_type": "execute_result"
    }
   ],
   "source": [
    "import json\n",
    "with open(\"../src/passwordgen/data/dictionaries.json\") as f:\n",
    "    wordlists_obj = json.load(f)\n",
    "\n",
    "wordlists_obj"
   ]
  },
  {
   "cell_type": "code",
   "execution_count": 7,
   "metadata": {},
   "outputs": [],
   "source": [
    "from pathlib import Path\n",
    "import tempfile\n",
    "from urllib import request\n",
    "import io\n",
    "\n",
    "out_dir = Path(\"../src/passwordgen/data/wordlists/\")\n",
    "out_dir.mkdir(parents=True, exist_ok=True)\n",
    "for dic_obj in wordlists_obj[\"dictionaries\"]:\n",
    "    # Create a temporary file to donwnload the dictionary to\n",
    "    with tempfile.NamedTemporaryFile() as file:\n",
    "        # Download the dictionary\n",
    "        request.urlretrieve(dic_obj[\"download_url\"], file.name)\n",
    "\n",
    "        # Open the file\n",
    "        f = open(file.name, \"rb\")\n",
    "\n",
    "        # Wrap in a text stream\n",
    "        text_stream = io.TextIOWrapper(f, encoding=dic_obj[\"encoding\"])\n",
    "        text_stream.readline()  # Skip the first line\n",
    "        lines = list(\n",
    "            dict.fromkeys(\n",
    "                line.split(\"/\", 1)[0].split(\"\\t\", 1)[0].strip()\n",
    "                for line in text_stream.readlines()\n",
    "            )\n",
    "        )\n",
    "        with (out_dir / dic_obj[\"file_name\"]).open(\"wt\") as out_f:\n",
    "            out_f.writelines(line + \"\\n\" for line in lines)\n"
   ]
  },
  {
   "cell_type": "code",
   "execution_count": null,
   "metadata": {},
   "outputs": [],
   "source": []
  }
 ],
 "metadata": {
  "kernelspec": {
   "display_name": "passwordgen-ulQYdpio",
   "language": "python",
   "name": "python3"
  },
  "language_info": {
   "codemirror_mode": {
    "name": "ipython",
    "version": 3
   },
   "file_extension": ".py",
   "mimetype": "text/x-python",
   "name": "python",
   "nbconvert_exporter": "python",
   "pygments_lexer": "ipython3",
   "version": "3.10.10"
  },
  "orig_nbformat": 4
 },
 "nbformat": 4,
 "nbformat_minor": 2
}
